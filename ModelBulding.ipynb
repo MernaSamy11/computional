{
 "cells": [
  {
   "cell_type": "code",
   "execution_count": 67,
   "id": "43e47f84",
   "metadata": {},
   "outputs": [
    {
     "name": "stdout",
     "output_type": "stream",
     "text": [
      "Requirement already satisfied: cobra in d:\\anaconda\\lib\\site-packages (0.24.0)\n",
      "Requirement already satisfied: numpy~=1.13 in d:\\anaconda\\lib\\site-packages (from cobra) (1.20.1)\n",
      "Requirement already satisfied: swiglpk in d:\\anaconda\\lib\\site-packages (from cobra) (5.0.4)\n",
      "Requirement already satisfied: appdirs~=1.4 in d:\\anaconda\\lib\\site-packages (from cobra) (1.4.4)\n",
      "Requirement already satisfied: optlang~=1.5 in d:\\anaconda\\lib\\site-packages (from cobra) (1.5.2)\n",
      "Requirement already satisfied: pandas~=1.0 in d:\\anaconda\\lib\\site-packages (from cobra) (1.2.4)\n",
      "Requirement already satisfied: ruamel.yaml~=0.16 in d:\\anaconda\\lib\\site-packages (from cobra) (0.17.21)\n",
      "Requirement already satisfied: python-libsbml==5.19.2 in d:\\anaconda\\lib\\site-packages (from cobra) (5.19.2)\n",
      "Requirement already satisfied: importlib-resources in d:\\anaconda\\lib\\site-packages (from cobra) (5.4.0)\n",
      "Requirement already satisfied: future in d:\\anaconda\\lib\\site-packages (from cobra) (0.18.2)\n",
      "Requirement already satisfied: pydantic~=1.6 in d:\\anaconda\\lib\\site-packages (from cobra) (1.9.0)\n",
      "Requirement already satisfied: rich>=8.0 in d:\\anaconda\\lib\\site-packages (from cobra) (12.0.0)\n",
      "Requirement already satisfied: httpx~=0.14 in d:\\anaconda\\lib\\site-packages (from cobra) (0.22.0)\n",
      "Requirement already satisfied: depinfo~=1.7 in d:\\anaconda\\lib\\site-packages (from cobra) (1.7.0)\n",
      "Requirement already satisfied: diskcache~=5.0 in d:\\anaconda\\lib\\site-packages (from cobra) (5.4.0)\n",
      "Requirement already satisfied: certifi in d:\\anaconda\\lib\\site-packages (from httpx~=0.14->cobra) (2020.12.5)\n",
      "Requirement already satisfied: sniffio in d:\\anaconda\\lib\\site-packages (from httpx~=0.14->cobra) (1.2.0)\n",
      "Requirement already satisfied: httpcore<0.15.0,>=0.14.5 in d:\\anaconda\\lib\\site-packages (from httpx~=0.14->cobra) (0.14.7)\n",
      "Requirement already satisfied: charset-normalizer in d:\\anaconda\\lib\\site-packages (from httpx~=0.14->cobra) (2.0.12)\n",
      "Requirement already satisfied: rfc3986[idna2008]<2,>=1.3 in d:\\anaconda\\lib\\site-packages (from httpx~=0.14->cobra) (1.5.0)\n",
      "Requirement already satisfied: anyio==3.* in d:\\anaconda\\lib\\site-packages (from httpcore<0.15.0,>=0.14.5->httpx~=0.14->cobra) (3.5.0)\n",
      "Requirement already satisfied: h11<0.13,>=0.11 in d:\\anaconda\\lib\\site-packages (from httpcore<0.15.0,>=0.14.5->httpx~=0.14->cobra) (0.12.0)\n",
      "Requirement already satisfied: idna>=2.8 in d:\\anaconda\\lib\\site-packages (from anyio==3.*->httpcore<0.15.0,>=0.14.5->httpx~=0.14->cobra) (2.10)\n",
      "Requirement already satisfied: six>=1.9 in d:\\anaconda\\lib\\site-packages (from optlang~=1.5->cobra) (1.15.0)\n",
      "Requirement already satisfied: sympy>=1.0 in d:\\anaconda\\lib\\site-packages (from optlang~=1.5->cobra) (1.8)\n",
      "Requirement already satisfied: pytz>=2017.3 in d:\\anaconda\\lib\\site-packages (from pandas~=1.0->cobra) (2021.1)\n",
      "Requirement already satisfied: python-dateutil>=2.7.3 in d:\\anaconda\\lib\\site-packages (from pandas~=1.0->cobra) (2.8.1)\n",
      "Requirement already satisfied: typing-extensions>=3.7.4.3 in d:\\anaconda\\lib\\site-packages (from pydantic~=1.6->cobra) (3.7.4.3)\n",
      "Requirement already satisfied: pygments<3.0.0,>=2.6.0 in d:\\anaconda\\lib\\site-packages (from rich>=8.0->cobra) (2.8.1)\n",
      "Requirement already satisfied: commonmark<0.10.0,>=0.9.0 in d:\\anaconda\\lib\\site-packages (from rich>=8.0->cobra) (0.9.1)\n",
      "Requirement already satisfied: ruamel.yaml.clib>=0.2.6 in d:\\anaconda\\lib\\site-packages (from ruamel.yaml~=0.16->cobra) (0.2.6)\n",
      "Requirement already satisfied: mpmath>=0.19 in d:\\anaconda\\lib\\site-packages (from sympy>=1.0->optlang~=1.5->cobra) (1.2.1)\n",
      "Requirement already satisfied: zipp>=3.1.0 in d:\\anaconda\\lib\\site-packages (from importlib-resources->cobra) (3.4.1)\n",
      "Note: you may need to restart the kernel to use updated packages.\n"
     ]
    }
   ],
   "source": [
    "pip install cobra\n"
   ]
  },
  {
   "cell_type": "code",
   "execution_count": 68,
   "id": "49087e3c",
   "metadata": {},
   "outputs": [],
   "source": [
    "import cobra\n",
    "from cobra import Model,Reaction,Metabolite"
   ]
  },
  {
   "cell_type": "code",
   "execution_count": 69,
   "id": "ad23a6d7",
   "metadata": {},
   "outputs": [],
   "source": [
    "model1=Model('model1')"
   ]
  },
  {
   "cell_type": "code",
   "execution_count": 70,
   "id": "e4e28af3",
   "metadata": {},
   "outputs": [],
   "source": [
    "r0=Reaction('r0')\n",
    "r0.name='r0'\n",
    "r0.lower_bound=2\n",
    "r0.upper_bound=2"
   ]
  },
  {
   "cell_type": "code",
   "execution_count": 71,
   "id": "8f773cf5",
   "metadata": {},
   "outputs": [],
   "source": [
    "r1=Reaction('r1')\n",
    "r1.name='r1'\n",
    "r1.lower_bound=0\n",
    "r1.upper_bound=1000"
   ]
  },
  {
   "cell_type": "code",
   "execution_count": 72,
   "id": "247a2b35",
   "metadata": {},
   "outputs": [],
   "source": [
    "r2=Reaction('r2')\n",
    "r2.name='r2'\n",
    "r2.lower_bound=0\n",
    "r2.upper_bound=1000"
   ]
  },
  {
   "cell_type": "code",
   "execution_count": 73,
   "id": "2c961913",
   "metadata": {},
   "outputs": [],
   "source": [
    "r3=Reaction('r3')\n",
    "r3.name='r3'\n",
    "r3.lower_bound=.18\n",
    "r3.upper_bound=.18"
   ]
  },
  {
   "cell_type": "code",
   "execution_count": 74,
   "id": "fcdc7cac",
   "metadata": {},
   "outputs": [],
   "source": [
    "r4=Reaction('r4')\n",
    "r4.name='r4'\n",
    "r4.lower_bound=0\n",
    "r4.upper_bound=1000"
   ]
  },
  {
   "cell_type": "code",
   "execution_count": 75,
   "id": "af42d229",
   "metadata": {},
   "outputs": [],
   "source": [
    "M=Reaction('M')\n",
    "M.name='M'\n",
    "M.lower_bound=0\n",
    "M.upper_bound=1000"
   ]
  },
  {
   "cell_type": "code",
   "execution_count": 76,
   "id": "db7d12d5",
   "metadata": {},
   "outputs": [],
   "source": [
    "A=Metabolite('A',compartment='c')\n",
    "B=Metabolite('B',compartment='c')\n",
    "C=Metabolite('C',compartment='c')\n",
    "ATP=Metabolite('ATP',compartment='c')"
   ]
  },
  {
   "cell_type": "code",
   "execution_count": 77,
   "id": "37b55002",
   "metadata": {},
   "outputs": [],
   "source": [
    "# R0 : ----> A \n",
    "r0.add_metabolites({A:2})\n",
    "\n",
    "# R1 : A ----> B \n",
    "r1.add_metabolites({A:-1,B:1})\n",
    "\n",
    "# R2 : B ----> C \n",
    "r2.add_metabolites({B:-1,C:1})\n",
    "\n",
    "# M : C ---->  \n",
    "M.add_metabolites({C:-1})\n",
    "\n",
    "# R3 : A ----> ATP \n",
    "r3.add_metabolites({A:-1,ATP:1})\n",
    "\n",
    "# R4 : ATP ---->  \n",
    "r4.add_metabolites({ATP:-1})"
   ]
  },
  {
   "cell_type": "code",
   "execution_count": 78,
   "id": "1eb2a530",
   "metadata": {},
   "outputs": [],
   "source": [
    "model1.add_reactions([r0,r1,r2,r3,r4,M])"
   ]
  },
  {
   "cell_type": "code",
   "execution_count": 79,
   "id": "b65bcea6",
   "metadata": {},
   "outputs": [],
   "source": [
    "model1.objective='M'"
   ]
  },
  {
   "cell_type": "code",
   "execution_count": 80,
   "id": "d28e1977",
   "metadata": {},
   "outputs": [
    {
     "data": {
      "text/html": [
       "<strong><em>Optimal</em> solution with objective value 3.820</strong><br><div>\n",
       "<style scoped>\n",
       "    .dataframe tbody tr th:only-of-type {\n",
       "        vertical-align: middle;\n",
       "    }\n",
       "\n",
       "    .dataframe tbody tr th {\n",
       "        vertical-align: top;\n",
       "    }\n",
       "\n",
       "    .dataframe thead th {\n",
       "        text-align: right;\n",
       "    }\n",
       "</style>\n",
       "<table border=\"1\" class=\"dataframe\">\n",
       "  <thead>\n",
       "    <tr style=\"text-align: right;\">\n",
       "      <th></th>\n",
       "      <th>fluxes</th>\n",
       "      <th>reduced_costs</th>\n",
       "    </tr>\n",
       "  </thead>\n",
       "  <tbody>\n",
       "    <tr>\n",
       "      <th>r0</th>\n",
       "      <td>2.00</td>\n",
       "      <td>4.0</td>\n",
       "    </tr>\n",
       "    <tr>\n",
       "      <th>r1</th>\n",
       "      <td>3.82</td>\n",
       "      <td>0.0</td>\n",
       "    </tr>\n",
       "    <tr>\n",
       "      <th>r2</th>\n",
       "      <td>3.82</td>\n",
       "      <td>0.0</td>\n",
       "    </tr>\n",
       "    <tr>\n",
       "      <th>r3</th>\n",
       "      <td>0.18</td>\n",
       "      <td>-2.0</td>\n",
       "    </tr>\n",
       "    <tr>\n",
       "      <th>r4</th>\n",
       "      <td>0.18</td>\n",
       "      <td>0.0</td>\n",
       "    </tr>\n",
       "    <tr>\n",
       "      <th>M</th>\n",
       "      <td>3.82</td>\n",
       "      <td>0.0</td>\n",
       "    </tr>\n",
       "  </tbody>\n",
       "</table>\n",
       "</div>"
      ],
      "text/plain": [
       "<Solution 3.820 at 0x1f66770f190>"
      ]
     },
     "execution_count": 80,
     "metadata": {},
     "output_type": "execute_result"
    }
   ],
   "source": [
    "model1.optimize()"
   ]
  },
  {
   "cell_type": "code",
   "execution_count": 81,
   "id": "31e7857d",
   "metadata": {},
   "outputs": [
    {
     "data": {
      "text/html": [
       "<h3>Objective</h3><p>1.0 M = 3.82</p><h4>Uptake</h4><table border=\"1\" class=\"dataframe\">\n",
       "  <thead>\n",
       "    <tr style=\"text-align: right;\">\n",
       "      <th>Metabolite</th>\n",
       "      <th>Reaction</th>\n",
       "      <th>Flux</th>\n",
       "      <th>C-Number</th>\n",
       "      <th>C-Flux</th>\n",
       "    </tr>\n",
       "  </thead>\n",
       "  <tbody>\n",
       "    <tr>\n",
       "      <td>A</td>\n",
       "      <td>r0</td>\n",
       "      <td>4</td>\n",
       "      <td>0</td>\n",
       "      <td>0.00%</td>\n",
       "    </tr>\n",
       "  </tbody>\n",
       "</table><h4>Secretion</h4><table border=\"1\" class=\"dataframe\">\n",
       "  <thead>\n",
       "    <tr style=\"text-align: right;\">\n",
       "      <th>Metabolite</th>\n",
       "      <th>Reaction</th>\n",
       "      <th>Flux</th>\n",
       "      <th>C-Number</th>\n",
       "      <th>C-Flux</th>\n",
       "    </tr>\n",
       "  </thead>\n",
       "  <tbody>\n",
       "    <tr>\n",
       "      <td>C</td>\n",
       "      <td>M</td>\n",
       "      <td>-3.82</td>\n",
       "      <td>0</td>\n",
       "      <td>0.00%</td>\n",
       "    </tr>\n",
       "    <tr>\n",
       "      <td>ATP</td>\n",
       "      <td>r4</td>\n",
       "      <td>-0.18</td>\n",
       "      <td>0</td>\n",
       "      <td>0.00%</td>\n",
       "    </tr>\n",
       "  </tbody>\n",
       "</table>"
      ],
      "text/plain": [
       "<cobra.summary.model_summary.ModelSummary at 0x1f667737d00>"
      ]
     },
     "execution_count": 81,
     "metadata": {},
     "output_type": "execute_result"
    }
   ],
   "source": [
    "model1.summary()"
   ]
  },
  {
   "cell_type": "code",
   "execution_count": null,
   "id": "fb83185b",
   "metadata": {},
   "outputs": [],
   "source": []
  }
 ],
 "metadata": {
  "kernelspec": {
   "display_name": "Python 3",
   "language": "python",
   "name": "python3"
  },
  "language_info": {
   "codemirror_mode": {
    "name": "ipython",
    "version": 3
   },
   "file_extension": ".py",
   "mimetype": "text/x-python",
   "name": "python",
   "nbconvert_exporter": "python",
   "pygments_lexer": "ipython3",
   "version": "3.8.8"
  }
 },
 "nbformat": 4,
 "nbformat_minor": 5
}
